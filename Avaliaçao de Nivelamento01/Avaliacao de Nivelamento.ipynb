{
 "cells": [
  {
   "cell_type": "markdown",
   "id": "97a8113a",
   "metadata": {},
   "source": [
    "# Avaliação\n",
    "\n",
    "1. Crie uma função que recebe uma lista e retorna o valor máximo e mínimo da lista (não utilize a função max() e min()).\n",
    "2. Crie uma função que recebe dois parâmetros (início e fim) e retorna uma lista com todos os valores pares entre ínicio e fim.\n",
    "3. Acesse a nota de matemática em dc3 e altere para 3.\n",
    "\n",
    "Para as questões 4 a 8 utilize o dataset 'water_potability.csv'. O dataset descreve características de uma amostra de água e na coluna 'potability' descreve se a água é ou não própria para consumo humano. Para iniciar a resolução das questões abaixo drope a coluna 'Unnamed: 0'.\n",
    "\n",
    "4. Demonstre a correlação entre todas as colunas do dataset. Qual é a coluna com maior correlação positiva com 'potability'? Desconsidere a correlação com ela mesma (valor 1.0).\n",
    "5. Crie uma série que descreve (em porcentagem) quanto cada coluna tem de valores nulos. Qual a coluna com maior porcentagem de valores nulos?\n",
    "6. Crie uma coluna dentro do dataset que descreve se 'Turbidity' está acima ou abaixo da média.\n",
    "7. Quantas amostras de água são potáveis e não potáveis, utilize a coluna criada na questão 6 como dimensão de análise.\n",
    "8. Crie um dataframe onde o índice deve ser cada estado e com duas colunas. A primeira é a porcentagem de amostras não potáveis naquele estado e a segunda é a porcentagem de amostras potáveis naquele estado. Qual é o estado com a menor porcentagem de amostras de água potável?\n",
    "9. Utlizando dados coletados da internet sobre a quantidade de habitantes de cada estado no ano 2020 responda. Qual estado, com populacao acima de 10 milhões de habitantes, tem a maior porcentagem de amostras de águas não potável?\n",
    "10. Crie o dicionário dc_states contendo como chaves os nomes de cada estado e como valor uma lista contendo o zscore aplicado a coluna \"Solids\" de todas as amostras daquele respectivo estado. Passe para função violin_plot_states o dicionário e uma lista contendo 5 estados que gostaria de análisar. Faça uma análise sucinta do resultado do gráfico."
   ]
  },
  {
   "cell_type": "code",
   "execution_count": 2,
   "id": "3f7ef2cc",
   "metadata": {
    "ExecuteTime": {
     "end_time": "2021-08-03T21:24:00.543966Z",
     "start_time": "2021-08-03T21:23:54.889202Z"
    }
   },
   "outputs": [],
   "source": [
    "dc3 = { \n",
    "   \"turma\":{ \n",
    "      \"aluno\":{ \n",
    "         \"nome\":\"Joao\",\n",
    "         \"notas\":{ \n",
    "            \"portugues\":2,\n",
    "            \"matematica\":9\n",
    "         }\n",
    "      }\n",
    "   }\n",
    "}\n",
    "\n",
    "import matplotlib.pyplot as plt\n",
    "import seaborn as sns\n",
    "\n",
    "def violin_plot_states(dc_states,lista_estados):\n",
    "    f, ax = plt.subplots(1,1,figsize=(16,4))\n",
    "    data_plot = pd.DataFrame.from_dict(dc_states,orient='index').T.rename(columns={'variable':'state','value':'z_score'})\n",
    "    data_plot['z_score'] = data_plot['z_score'].astype('int') \n",
    "    states_plot = lista_estados\n",
    "    sns.violinplot(x='state',y='z_score',data=data_plot[data_plot.state.isin(states_plot)])    \n",
    "    ax.axhline(0,color='black',alpha=0.3)"
   ]
  },
  {
   "cell_type": "code",
   "execution_count": 3,
   "id": "1aea7ba4",
   "metadata": {
    "ExecuteTime": {
     "end_time": "2021-08-03T21:27:33.787946Z",
     "start_time": "2021-08-03T21:27:33.770406Z"
    }
   },
   "outputs": [
    {
     "name": "stdout",
     "output_type": "stream",
     "text": [
      "O menor número da serie é: 1\n"
     ]
    }
   ],
   "source": [
    "# Exercício 1\n",
    "import numpy as np\n",
    "def retorna_min(serie):\n",
    "    serie = np.sort(np.array(serie))\n",
    "    return serie[0]\n",
    "print(f'O menor número da serie é: {retorna_min([10, 5, 1, 3, 5, 7])}')"
   ]
  },
  {
   "cell_type": "code",
   "execution_count": 4,
   "id": "6714c451",
   "metadata": {
    "ExecuteTime": {
     "end_time": "2021-08-03T21:29:50.049962Z",
     "start_time": "2021-08-03T21:29:50.035002Z"
    }
   },
   "outputs": [
    {
     "name": "stdout",
     "output_type": "stream",
     "text": [
      "Os pares da sequência gera é: [0, 2, 4, 6, 8]\n"
     ]
    }
   ],
   "source": [
    "# Exercício 2\n",
    "def retorna_pares(n0, nf):\n",
    "    return [n for n in np.arange(n0, nf) if n % 2 == 0]\n",
    "print(f'Os pares da sequência gera é: {retorna_pares(0, 10)}')"
   ]
  },
  {
   "cell_type": "code",
   "execution_count": 5,
   "id": "606ae554",
   "metadata": {
    "ExecuteTime": {
     "end_time": "2021-08-03T21:25:19.793376Z",
     "start_time": "2021-08-03T21:25:19.786392Z"
    }
   },
   "outputs": [
    {
     "name": "stdout",
     "output_type": "stream",
     "text": [
      "{'turma': {'aluno': {'nome': 'Joao', 'notas': {'portugues': 2, 'matematica': 3}}}}\n"
     ]
    }
   ],
   "source": [
    "# Exercício 3\n",
    "dc3['turma']['aluno']['notas']['matematica'] = 3\n",
    "print(dc3)"
   ]
  },
  {
   "cell_type": "code",
   "execution_count": 6,
   "id": "58856401",
   "metadata": {
    "ExecuteTime": {
     "end_time": "2021-08-03T21:33:19.355984Z",
     "start_time": "2021-08-03T21:33:19.321725Z"
    }
   },
   "outputs": [
    {
     "data": {
      "text/plain": [
       "0.03374331339365025"
      ]
     },
     "execution_count": 6,
     "metadata": {},
     "output_type": "execute_result"
    }
   ],
   "source": [
    "# Exercício 4\n",
    "import pandas as pd\n",
    "df = pd.read_csv('water_potability.csv', sep=';').drop('Unnamed: 0', axis = 1)\n",
    "df.corr()['Potability'].sort_values().Solids"
   ]
  },
  {
   "cell_type": "code",
   "execution_count": 7,
   "id": "736bb9e0",
   "metadata": {
    "ExecuteTime": {
     "end_time": "2021-08-03T21:33:45.442209Z",
     "start_time": "2021-08-03T21:33:45.426251Z"
    }
   },
   "outputs": [
    {
     "data": {
      "text/plain": [
       "ph                 491\n",
       "Hardness             0\n",
       "Solids               0\n",
       "Chloramines          0\n",
       "Sulfate            781\n",
       "Conductivity         0\n",
       "Organic_carbon       0\n",
       "Trihalomethanes    162\n",
       "Turbidity            0\n",
       "Potability           0\n",
       "state                0\n",
       "sample_id            0\n",
       "dtype: int64"
      ]
     },
     "execution_count": 7,
     "metadata": {},
     "output_type": "execute_result"
    }
   ],
   "source": [
    "# Exercício 5\n",
    "df.isnull().sum()"
   ]
  },
  {
   "cell_type": "code",
   "execution_count": 8,
   "id": "973d8299",
   "metadata": {
    "ExecuteTime": {
     "end_time": "2021-08-03T21:39:24.118100Z",
     "start_time": "2021-08-03T21:39:23.953514Z"
    }
   },
   "outputs": [
    {
     "name": "stdout",
     "output_type": "stream",
     "text": [
      "A média é: 3.9667861697910576\n"
     ]
    },
    {
     "data": {
      "text/html": [
       "<div>\n",
       "<style scoped>\n",
       "    .dataframe tbody tr th:only-of-type {\n",
       "        vertical-align: middle;\n",
       "    }\n",
       "\n",
       "    .dataframe tbody tr th {\n",
       "        vertical-align: top;\n",
       "    }\n",
       "\n",
       "    .dataframe thead th {\n",
       "        text-align: right;\n",
       "    }\n",
       "</style>\n",
       "<table border=\"1\" class=\"dataframe\">\n",
       "  <thead>\n",
       "    <tr style=\"text-align: right;\">\n",
       "      <th></th>\n",
       "      <th>Turbidity</th>\n",
       "      <th>Media</th>\n",
       "    </tr>\n",
       "  </thead>\n",
       "  <tbody>\n",
       "    <tr>\n",
       "      <th>0</th>\n",
       "      <td>2.963135</td>\n",
       "      <td>Abaixo da Média</td>\n",
       "    </tr>\n",
       "    <tr>\n",
       "      <th>1</th>\n",
       "      <td>4.500656</td>\n",
       "      <td>Acima da Média</td>\n",
       "    </tr>\n",
       "    <tr>\n",
       "      <th>2</th>\n",
       "      <td>3.055934</td>\n",
       "      <td>Abaixo da Média</td>\n",
       "    </tr>\n",
       "    <tr>\n",
       "      <th>3</th>\n",
       "      <td>4.628771</td>\n",
       "      <td>Acima da Média</td>\n",
       "    </tr>\n",
       "    <tr>\n",
       "      <th>4</th>\n",
       "      <td>4.075075</td>\n",
       "      <td>Acima da Média</td>\n",
       "    </tr>\n",
       "    <tr>\n",
       "      <th>...</th>\n",
       "      <td>...</td>\n",
       "      <td>...</td>\n",
       "    </tr>\n",
       "    <tr>\n",
       "      <th>3271</th>\n",
       "      <td>4.435821</td>\n",
       "      <td>Acima da Média</td>\n",
       "    </tr>\n",
       "    <tr>\n",
       "      <th>3272</th>\n",
       "      <td>2.798243</td>\n",
       "      <td>Abaixo da Média</td>\n",
       "    </tr>\n",
       "    <tr>\n",
       "      <th>3273</th>\n",
       "      <td>3.298875</td>\n",
       "      <td>Abaixo da Média</td>\n",
       "    </tr>\n",
       "    <tr>\n",
       "      <th>3274</th>\n",
       "      <td>4.708658</td>\n",
       "      <td>Acima da Média</td>\n",
       "    </tr>\n",
       "    <tr>\n",
       "      <th>3275</th>\n",
       "      <td>2.309149</td>\n",
       "      <td>Abaixo da Média</td>\n",
       "    </tr>\n",
       "  </tbody>\n",
       "</table>\n",
       "<p>3276 rows × 2 columns</p>\n",
       "</div>"
      ],
      "text/plain": [
       "      Turbidity            Media\n",
       "0      2.963135  Abaixo da Média\n",
       "1      4.500656   Acima da Média\n",
       "2      3.055934  Abaixo da Média\n",
       "3      4.628771   Acima da Média\n",
       "4      4.075075   Acima da Média\n",
       "...         ...              ...\n",
       "3271   4.435821   Acima da Média\n",
       "3272   2.798243  Abaixo da Média\n",
       "3273   3.298875  Abaixo da Média\n",
       "3274   4.708658   Acima da Média\n",
       "3275   2.309149  Abaixo da Média\n",
       "\n",
       "[3276 rows x 2 columns]"
      ]
     },
     "execution_count": 8,
     "metadata": {},
     "output_type": "execute_result"
    }
   ],
   "source": [
    "# Exercício 6\n",
    "def verifica(x):\n",
    "    if x > df.Turbidity.mean():\n",
    "        return \"Acima da Média\"\n",
    "    else:\n",
    "        return \"Abaixo da Média\"\n",
    "    \n",
    "df['Media'] = df.Turbidity.apply(verifica)\n",
    "print(f'A média é: {df.Turbidity.mean()}')\n",
    "df[['Turbidity', 'Media']]"
   ]
  },
  {
   "cell_type": "code",
   "execution_count": 9,
   "id": "99de99f6",
   "metadata": {
    "ExecuteTime": {
     "end_time": "2021-08-03T21:40:49.872772Z",
     "start_time": "2021-08-03T21:40:49.852788Z"
    }
   },
   "outputs": [
    {
     "data": {
      "text/plain": [
       "Abaixo da Média    1660\n",
       "Acima da Média     1616\n",
       "Name: Media, dtype: int64"
      ]
     },
     "execution_count": 9,
     "metadata": {},
     "output_type": "execute_result"
    }
   ],
   "source": [
    "# Exercício 7\n",
    "df['Media'].value_counts()"
   ]
  },
  {
   "cell_type": "code",
   "execution_count": 10,
   "id": "7c08d75f",
   "metadata": {
    "ExecuteTime": {
     "end_time": "2021-08-03T21:51:07.321596Z",
     "start_time": "2021-08-03T21:51:07.240769Z"
    },
    "scrolled": true
   },
   "outputs": [
    {
     "data": {
      "text/html": [
       "<div>\n",
       "<style scoped>\n",
       "    .dataframe tbody tr th:only-of-type {\n",
       "        vertical-align: middle;\n",
       "    }\n",
       "\n",
       "    .dataframe tbody tr th {\n",
       "        vertical-align: top;\n",
       "    }\n",
       "\n",
       "    .dataframe thead th {\n",
       "        text-align: right;\n",
       "    }\n",
       "</style>\n",
       "<table border=\"1\" class=\"dataframe\">\n",
       "  <thead>\n",
       "    <tr style=\"text-align: right;\">\n",
       "      <th>Potability</th>\n",
       "      <th>0</th>\n",
       "      <th>1</th>\n",
       "    </tr>\n",
       "    <tr>\n",
       "      <th>state</th>\n",
       "      <th></th>\n",
       "      <th></th>\n",
       "    </tr>\n",
       "  </thead>\n",
       "  <tbody>\n",
       "    <tr>\n",
       "      <th>Alabama</th>\n",
       "      <td>0.555556</td>\n",
       "      <td>0.444444</td>\n",
       "    </tr>\n",
       "    <tr>\n",
       "      <th>Alaska</th>\n",
       "      <td>0.529412</td>\n",
       "      <td>0.470588</td>\n",
       "    </tr>\n",
       "    <tr>\n",
       "      <th>Arizona</th>\n",
       "      <td>0.605634</td>\n",
       "      <td>0.394366</td>\n",
       "    </tr>\n",
       "    <tr>\n",
       "      <th>Arkansas</th>\n",
       "      <td>0.553846</td>\n",
       "      <td>0.446154</td>\n",
       "    </tr>\n",
       "    <tr>\n",
       "      <th>California</th>\n",
       "      <td>0.606061</td>\n",
       "      <td>0.393939</td>\n",
       "    </tr>\n",
       "    <tr>\n",
       "      <th>Colorado</th>\n",
       "      <td>0.637931</td>\n",
       "      <td>0.362069</td>\n",
       "    </tr>\n",
       "    <tr>\n",
       "      <th>Connecticut</th>\n",
       "      <td>0.629032</td>\n",
       "      <td>0.370968</td>\n",
       "    </tr>\n",
       "    <tr>\n",
       "      <th>Delaware</th>\n",
       "      <td>0.539683</td>\n",
       "      <td>0.460317</td>\n",
       "    </tr>\n",
       "    <tr>\n",
       "      <th>Florida</th>\n",
       "      <td>0.558824</td>\n",
       "      <td>0.441176</td>\n",
       "    </tr>\n",
       "    <tr>\n",
       "      <th>Georgia</th>\n",
       "      <td>0.656250</td>\n",
       "      <td>0.343750</td>\n",
       "    </tr>\n",
       "    <tr>\n",
       "      <th>Hawaii</th>\n",
       "      <td>0.619718</td>\n",
       "      <td>0.380282</td>\n",
       "    </tr>\n",
       "    <tr>\n",
       "      <th>Idaho</th>\n",
       "      <td>0.656716</td>\n",
       "      <td>0.343284</td>\n",
       "    </tr>\n",
       "    <tr>\n",
       "      <th>Illinois</th>\n",
       "      <td>0.525424</td>\n",
       "      <td>0.474576</td>\n",
       "    </tr>\n",
       "    <tr>\n",
       "      <th>Indiana</th>\n",
       "      <td>0.605634</td>\n",
       "      <td>0.394366</td>\n",
       "    </tr>\n",
       "    <tr>\n",
       "      <th>Iowa</th>\n",
       "      <td>0.666667</td>\n",
       "      <td>0.333333</td>\n",
       "    </tr>\n",
       "    <tr>\n",
       "      <th>Kansas</th>\n",
       "      <td>0.562500</td>\n",
       "      <td>0.437500</td>\n",
       "    </tr>\n",
       "    <tr>\n",
       "      <th>Kentucky</th>\n",
       "      <td>0.589744</td>\n",
       "      <td>0.410256</td>\n",
       "    </tr>\n",
       "    <tr>\n",
       "      <th>Louisiana</th>\n",
       "      <td>0.631579</td>\n",
       "      <td>0.368421</td>\n",
       "    </tr>\n",
       "    <tr>\n",
       "      <th>Maine</th>\n",
       "      <td>0.614286</td>\n",
       "      <td>0.385714</td>\n",
       "    </tr>\n",
       "    <tr>\n",
       "      <th>Maryland</th>\n",
       "      <td>0.666667</td>\n",
       "      <td>0.333333</td>\n",
       "    </tr>\n",
       "    <tr>\n",
       "      <th>Massachusetts</th>\n",
       "      <td>0.477612</td>\n",
       "      <td>0.522388</td>\n",
       "    </tr>\n",
       "    <tr>\n",
       "      <th>Michigan</th>\n",
       "      <td>0.622642</td>\n",
       "      <td>0.377358</td>\n",
       "    </tr>\n",
       "    <tr>\n",
       "      <th>Minnesota</th>\n",
       "      <td>0.783333</td>\n",
       "      <td>0.216667</td>\n",
       "    </tr>\n",
       "    <tr>\n",
       "      <th>Mississippi</th>\n",
       "      <td>0.615385</td>\n",
       "      <td>0.384615</td>\n",
       "    </tr>\n",
       "    <tr>\n",
       "      <th>Missouri</th>\n",
       "      <td>0.555556</td>\n",
       "      <td>0.444444</td>\n",
       "    </tr>\n",
       "    <tr>\n",
       "      <th>Montana</th>\n",
       "      <td>0.578947</td>\n",
       "      <td>0.421053</td>\n",
       "    </tr>\n",
       "    <tr>\n",
       "      <th>Nebraska</th>\n",
       "      <td>0.571429</td>\n",
       "      <td>0.428571</td>\n",
       "    </tr>\n",
       "    <tr>\n",
       "      <th>Nevada</th>\n",
       "      <td>0.634921</td>\n",
       "      <td>0.365079</td>\n",
       "    </tr>\n",
       "    <tr>\n",
       "      <th>New Hampshire</th>\n",
       "      <td>0.596491</td>\n",
       "      <td>0.403509</td>\n",
       "    </tr>\n",
       "    <tr>\n",
       "      <th>New Jersey</th>\n",
       "      <td>0.655738</td>\n",
       "      <td>0.344262</td>\n",
       "    </tr>\n",
       "    <tr>\n",
       "      <th>New Mexico</th>\n",
       "      <td>0.583333</td>\n",
       "      <td>0.416667</td>\n",
       "    </tr>\n",
       "    <tr>\n",
       "      <th>New York</th>\n",
       "      <td>0.701493</td>\n",
       "      <td>0.298507</td>\n",
       "    </tr>\n",
       "    <tr>\n",
       "      <th>North Carolina</th>\n",
       "      <td>0.661017</td>\n",
       "      <td>0.338983</td>\n",
       "    </tr>\n",
       "    <tr>\n",
       "      <th>North Dakota</th>\n",
       "      <td>0.653846</td>\n",
       "      <td>0.346154</td>\n",
       "    </tr>\n",
       "    <tr>\n",
       "      <th>Ohio</th>\n",
       "      <td>0.704918</td>\n",
       "      <td>0.295082</td>\n",
       "    </tr>\n",
       "    <tr>\n",
       "      <th>Oklahoma</th>\n",
       "      <td>0.500000</td>\n",
       "      <td>0.500000</td>\n",
       "    </tr>\n",
       "    <tr>\n",
       "      <th>Oregon</th>\n",
       "      <td>0.578947</td>\n",
       "      <td>0.421053</td>\n",
       "    </tr>\n",
       "    <tr>\n",
       "      <th>Pennsylvania</th>\n",
       "      <td>0.539683</td>\n",
       "      <td>0.460317</td>\n",
       "    </tr>\n",
       "    <tr>\n",
       "      <th>Rhode Island</th>\n",
       "      <td>0.666667</td>\n",
       "      <td>0.333333</td>\n",
       "    </tr>\n",
       "    <tr>\n",
       "      <th>South Carolina</th>\n",
       "      <td>0.531250</td>\n",
       "      <td>0.468750</td>\n",
       "    </tr>\n",
       "    <tr>\n",
       "      <th>South Dakota</th>\n",
       "      <td>0.691176</td>\n",
       "      <td>0.308824</td>\n",
       "    </tr>\n",
       "    <tr>\n",
       "      <th>Tennessee</th>\n",
       "      <td>0.544118</td>\n",
       "      <td>0.455882</td>\n",
       "    </tr>\n",
       "    <tr>\n",
       "      <th>Texas</th>\n",
       "      <td>0.630137</td>\n",
       "      <td>0.369863</td>\n",
       "    </tr>\n",
       "    <tr>\n",
       "      <th>Utah</th>\n",
       "      <td>0.625000</td>\n",
       "      <td>0.375000</td>\n",
       "    </tr>\n",
       "    <tr>\n",
       "      <th>Vermont</th>\n",
       "      <td>0.712329</td>\n",
       "      <td>0.287671</td>\n",
       "    </tr>\n",
       "    <tr>\n",
       "      <th>Virginia</th>\n",
       "      <td>0.700000</td>\n",
       "      <td>0.300000</td>\n",
       "    </tr>\n",
       "    <tr>\n",
       "      <th>Washington</th>\n",
       "      <td>0.615385</td>\n",
       "      <td>0.384615</td>\n",
       "    </tr>\n",
       "    <tr>\n",
       "      <th>West Virginia</th>\n",
       "      <td>0.614286</td>\n",
       "      <td>0.385714</td>\n",
       "    </tr>\n",
       "    <tr>\n",
       "      <th>Wisconsin</th>\n",
       "      <td>0.555556</td>\n",
       "      <td>0.444444</td>\n",
       "    </tr>\n",
       "    <tr>\n",
       "      <th>Wyoming</th>\n",
       "      <td>0.584615</td>\n",
       "      <td>0.415385</td>\n",
       "    </tr>\n",
       "    <tr>\n",
       "      <th>Total</th>\n",
       "      <td>0.609890</td>\n",
       "      <td>0.390110</td>\n",
       "    </tr>\n",
       "  </tbody>\n",
       "</table>\n",
       "</div>"
      ],
      "text/plain": [
       "Potability             0         1\n",
       "state                             \n",
       "Alabama         0.555556  0.444444\n",
       "Alaska          0.529412  0.470588\n",
       "Arizona         0.605634  0.394366\n",
       "Arkansas        0.553846  0.446154\n",
       "California      0.606061  0.393939\n",
       "Colorado        0.637931  0.362069\n",
       "Connecticut     0.629032  0.370968\n",
       "Delaware        0.539683  0.460317\n",
       "Florida         0.558824  0.441176\n",
       "Georgia         0.656250  0.343750\n",
       "Hawaii          0.619718  0.380282\n",
       "Idaho           0.656716  0.343284\n",
       "Illinois        0.525424  0.474576\n",
       "Indiana         0.605634  0.394366\n",
       "Iowa            0.666667  0.333333\n",
       "Kansas          0.562500  0.437500\n",
       "Kentucky        0.589744  0.410256\n",
       "Louisiana       0.631579  0.368421\n",
       "Maine           0.614286  0.385714\n",
       "Maryland        0.666667  0.333333\n",
       "Massachusetts   0.477612  0.522388\n",
       "Michigan        0.622642  0.377358\n",
       "Minnesota       0.783333  0.216667\n",
       "Mississippi     0.615385  0.384615\n",
       "Missouri        0.555556  0.444444\n",
       "Montana         0.578947  0.421053\n",
       "Nebraska        0.571429  0.428571\n",
       "Nevada          0.634921  0.365079\n",
       "New Hampshire   0.596491  0.403509\n",
       "New Jersey      0.655738  0.344262\n",
       "New Mexico      0.583333  0.416667\n",
       "New York        0.701493  0.298507\n",
       "North Carolina  0.661017  0.338983\n",
       "North Dakota    0.653846  0.346154\n",
       "Ohio            0.704918  0.295082\n",
       "Oklahoma        0.500000  0.500000\n",
       "Oregon          0.578947  0.421053\n",
       "Pennsylvania    0.539683  0.460317\n",
       "Rhode Island    0.666667  0.333333\n",
       "South Carolina  0.531250  0.468750\n",
       "South Dakota    0.691176  0.308824\n",
       "Tennessee       0.544118  0.455882\n",
       "Texas           0.630137  0.369863\n",
       "Utah            0.625000  0.375000\n",
       "Vermont         0.712329  0.287671\n",
       "Virginia        0.700000  0.300000\n",
       "Washington      0.615385  0.384615\n",
       "West Virginia   0.614286  0.385714\n",
       "Wisconsin       0.555556  0.444444\n",
       "Wyoming         0.584615  0.415385\n",
       "Total           0.609890  0.390110"
      ]
     },
     "execution_count": 10,
     "metadata": {},
     "output_type": "execute_result"
    }
   ],
   "source": [
    "# Exercício 8\n",
    "func = lambda x: x.count()/df.shape[0]\n",
    "result = pd.crosstab(index= df.state, columns=df.Potability, values= df.Media, aggfunc = np.count_nonzero\n",
    "            ,margins=True,margins_name='Total',normalize= 'index')\n",
    "result"
   ]
  },
  {
   "cell_type": "code",
   "execution_count": 11,
   "id": "5a03343d",
   "metadata": {
    "ExecuteTime": {
     "end_time": "2021-08-03T21:51:47.821117Z",
     "start_time": "2021-08-03T21:51:47.793191Z"
    },
    "scrolled": true
   },
   "outputs": [
    {
     "name": "stdout",
     "output_type": "stream",
     "text": [
      "O estado com maior índice de água potável é Illinois\n"
     ]
    }
   ],
   "source": [
    "# Exercício 9\n",
    "population = pd.read_excel('usa_population.xlsx')\n",
    "population.rename(columns = {'State Name': 'state'}, inplace = True)\n",
    "df2 = df.merge(population, how = 'left', on = 'state')\n",
    "print(\"O estado com maior índice de água potável é {}\".format(df2[df2['Population'] > 10000000].merge(result.reset_index(), on = 'state', how = 'left').sort_values(\n",
    "    by = 0).reset_index().loc[0, 'state']))"
   ]
  },
  {
   "cell_type": "code",
   "execution_count": 12,
   "id": "0c712e36",
   "metadata": {},
   "outputs": [],
   "source": [
    "# Exercício 10\n",
    "states_solids = df\n",
    "dc_states = {}\n",
    "dc_states['variable'] = [state for state in states_solids.state]\n",
    "dc_states['value'] = [(solid-states_solids.Solids.mean())/states_solids.Solids.std()for solid in states_solids.Solids]"
   ]
  },
  {
   "cell_type": "code",
   "execution_count": 13,
   "id": "3d4360c7",
   "metadata": {
    "scrolled": false
   },
   "outputs": [
    {
     "data": {
      "image/png": "[encoded data removed]",
      "text/plain": [
       "<Figure size 1152x288 with 1 Axes>"
      ]
     },
     "metadata": {
      "needs_background": "light"
     },
     "output_type": "display_data"
    }
   ],
   "source": [
    "violin_plot_states(dc_states, ['Pennsylvania', 'Texas', 'Arizona', 'Washington', 'Delaware'])"
   ]
  },
  {
   "cell_type": "markdown",
   "id": "9b0774d3",
   "metadata": {},
   "source": [
    "Solids é um índice que mede o conjunto de todas substâncias e inorgânicas contidas num liquido sob formas moleculares, ionizadas ou micro-granulares. É um parâmetro que mede a qualidade da água, pois avalia o peso total dos constituintes minerais presentes na água, por unidade de volume. Quando presentes em elevadas concentrações, podem ser prejudiciais.\n",
    "Nas 5 cidades escolhidas para a análise, há uma concentração no ponto 0 do z_score, o que significa que a maioria dos registros, para as cidades, estão próximos a média.\n",
    "Por outro lado, nas cidades de Washington tem um z_score máximo de 3+ desvios padrão acima da média, comparando com as outras cidades, significa que há registros com outliers. No Arizona, tem um z_score mínimo de aproximadamentee -2,5 desvio padrões abaixo da média."
   ]
  },
  {
   "cell_type": "code",
   "execution_count": null,
   "id": "49b0033e",
   "metadata": {},
   "outputs": [],
   "source": []
  }
 ],
 "metadata": {
  "kernelspec": {
   "display_name": "Python 3",
   "language": "python",
   "name": "python3"
  },
  "language_info": {
   "codemirror_mode": {
    "name": "ipython",
    "version": 3
   },
   "file_extension": ".py",
   "mimetype": "text/x-python",
   "name": "python",
   "nbconvert_exporter": "python",
   "pygments_lexer": "ipython3",
   "version": "3.8.8"
  },
  "latex_envs": {
   "LaTeX_envs_menu_present": true,
   "autoclose": false,
   "autocomplete": true,
   "bibliofile": "biblio.bib",
   "cite_by": "apalike",
   "current_citInitial": 1,
   "eqLabelWithNumbers": true,
   "eqNumInitial": 1,
   "hotkeys": {
    "equation": "Ctrl-E",
    "itemize": "Ctrl-I"
   },
   "labels_anchors": false,
   "latex_user_defs": false,
   "report_style_numbering": false,
   "user_envs_cfg": false
  },
  "varInspector": {
   "cols": {
    "lenName": 16,
    "lenType": 16,
    "lenVar": 40
   },
   "kernels_config": {
    "python": {
     "delete_cmd_postfix": "",
     "delete_cmd_prefix": "del ",
     "library": "var_list.py",
     "varRefreshCmd": "print(var_dic_list())"
    },
    "r": {
     "delete_cmd_postfix": ") ",
     "delete_cmd_prefix": "rm(",
     "library": "var_list.r",
     "varRefreshCmd": "cat(var_dic_list()) "
    }
   },
   "types_to_exclude": [
    "module",
    "function",
    "builtin_function_or_method",
    "instance",
    "_Feature"
   ],
   "window_display": false
  }
 },
 "nbformat": 4,
 "nbformat_minor": 5
}
